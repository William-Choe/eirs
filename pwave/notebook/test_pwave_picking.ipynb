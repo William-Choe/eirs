{
 "cells": [
  {
   "cell_type": "code",
   "execution_count": 1,
   "metadata": {
    "collapsed": true
   },
   "outputs": [
    {
     "name": "stdout",
     "output_type": "stream",
     "text": [
      "WARNING:tensorflow:From /usr/local/anaconda3/envs/eirs_tf2/lib/python3.7/site-packages/tensorflow_core/python/compat/v2_compat.py:65: disable_resource_variables (from tensorflow.python.ops.variable_scope) is deprecated and will be removed in a future version.\n",
      "Instructions for updating:\n",
      "non-resource variables are not supported in the long term\n"
     ]
    }
   ],
   "source": [
    "from obspy import UTCDateTime\n",
    "from backend.common.stream_to_kafka import sendMsg\n",
    "from unet_predict_pb import predict\n",
    "from pwave_picking import loadStream, preprocessStream, cutStream, parseStream, saveCutStream\n",
    "import backend.common.database as database"
   ]
  },
  {
   "cell_type": "code",
   "execution_count": 8,
   "outputs": [
    {
     "name": "stdout",
     "output_type": "stream",
     "text": [
      "XX.PWU..\n",
      "XX.PWU..\n",
      "XX.PWU..\n",
      " + Preprocess stream 3 Trace(s) in Stream:\n",
      "XX.PWU..BHE | 2008-07-20T22:30:30.000000Z - 2008-07-20T22:31:00.000000Z | 100.0 Hz, 3001 samples\n",
      "XX.PWU..BHN | 2008-07-20T22:30:30.000000Z - 2008-07-20T22:31:00.000000Z | 100.0 Hz, 3001 samples\n",
      "XX.PWU..BHZ | 2008-07-20T22:30:30.000000Z - 2008-07-20T22:31:00.000000Z | 100.0 Hz, 3001 samples\n",
      " -- Stream is ready, starting detection\n",
      "3 Trace(s) in Stream:\n",
      "XX.PWU..BHE | 2008-07-20T22:30:30.000000Z - 2008-07-20T22:31:00.000000Z | 100.0 Hz, 3001 samples\n",
      "XX.PWU..BHN | 2008-07-20T22:30:30.000000Z - 2008-07-20T22:31:00.000000Z | 100.0 Hz, 3001 samples\n",
      "XX.PWU..BHZ | 2008-07-20T22:30:30.000000Z - 2008-07-20T22:31:00.000000Z | 100.0 Hz, 3001 samples\n"
     ]
    }
   ],
   "source": [
    "# 暂时读取有p波的30s波形(100HZ, 3001samples)，模拟P波拾取\n",
    "stream_file = \"./seed/PWU_20080720223030_30s.mseed\"\n",
    "# stream_file = \"/Users/cui/Project/EIRS/mseed/AU.SDAN.00.BHE.202104200818.mseed\"\n",
    "stream = loadStream(stream_file)\n",
    "stream = stream.normalize()\n",
    "for tr in stream:\n",
    "    print(tr.get_id()[:-3])\n",
    "\n",
    "\n",
    "print(\" + Preprocess stream {}\".format(stream))\n",
    "stream = preprocessStream(stream)\n",
    "print(\" -- Stream is ready, starting detection\")\n",
    "\n",
    "print(stream)"
   ],
   "metadata": {
    "collapsed": false,
    "pycharm": {
     "name": "#%%\n"
    }
   }
  },
  {
   "cell_type": "code",
   "execution_count": 3,
   "outputs": [
    {
     "name": "stdout",
     "output_type": "stream",
     "text": [
      "p-wave timestamp:  2008-07-20T22:30:54.975000Z\n"
     ]
    }
   ],
   "source": [
    "# 返回p波到时timestamp\n",
    "tpstamp = predict(stream)\n",
    "print(\"p-wave timestamp: \", UTCDateTime(tpstamp))"
   ],
   "metadata": {
    "collapsed": false,
    "pycharm": {
     "name": "#%%\n"
    }
   }
  },
  {
   "cell_type": "code",
   "execution_count": 4,
   "outputs": [
    {
     "name": "stdout",
     "output_type": "stream",
     "text": [
      "3 Trace(s) in Stream:\n",
      "XX.PWU..BHE | 2008-07-20T22:30:00.000000Z - 2008-07-20T22:32:00.000000Z | 100.0 Hz, 12001 samples\n",
      "XX.PWU..BHN | 2008-07-20T22:30:00.000000Z - 2008-07-20T22:32:00.000000Z | 100.0 Hz, 12001 samples\n",
      "XX.PWU..BHZ | 2008-07-20T22:30:00.000000Z - 2008-07-20T22:32:00.000000Z | 100.0 Hz, 12001 samples\n"
     ]
    }
   ],
   "source": [
    "# 读取3分钟波形\n",
    "stream_original = loadStream(\"./seed/PWU20080720223000.mseed\")\n",
    "print(stream_original)"
   ],
   "metadata": {
    "collapsed": false,
    "pycharm": {
     "name": "#%%\n"
    }
   }
  },
  {
   "cell_type": "code",
   "execution_count": 10,
   "outputs": [
    {
     "name": "stdout",
     "output_type": "stream",
     "text": [
      "40 ,  160\n",
      "3 Trace(s) in Stream:\n",
      "XX.PWU..BHE | 2008-07-20T22:30:14.980000Z - 2008-07-20T22:32:00.000000Z | 100.0 Hz, 10503 samples\n",
      "XX.PWU..BHN | 2008-07-20T22:30:14.980000Z - 2008-07-20T22:32:00.000000Z | 100.0 Hz, 10503 samples\n",
      "XX.PWU..BHZ | 2008-07-20T22:30:14.980000Z - 2008-07-20T22:32:00.000000Z | 100.0 Hz, 10503 samples\n"
     ]
    }
   ],
   "source": [
    "# 截取p波到时前n秒后m秒波形\n",
    "db = database.DB()\n",
    "pwave_before, pwave_after = db.getPWaveConfig()\n",
    "print(pwave_before, \", \", pwave_after)\n",
    "stream_cut = cutStream(stream_original, tpstamp, pwave_before, pwave_after)\n",
    "print(stream_cut)"
   ],
   "metadata": {
    "collapsed": false,
    "pycharm": {
     "name": "#%%\n"
    }
   }
  },
  {
   "cell_type": "code",
   "execution_count": 13,
   "outputs": [
    {
     "ename": "KeyError",
     "evalue": "'XX.PWU..BHE'",
     "output_type": "error",
     "traceback": [
      "\u001B[0;31m---------------------------------------------------------------------------\u001B[0m",
      "\u001B[0;31mKeyError\u001B[0m                                  Traceback (most recent call last)",
      "\u001B[0;32m<ipython-input-13-3ab80ef87991>\u001B[0m in \u001B[0;36m<module>\u001B[0;34m\u001B[0m\n\u001B[1;32m      1\u001B[0m \u001B[0;31m# 将stream解析成json\u001B[0m\u001B[0;34m\u001B[0m\u001B[0;34m\u001B[0m\u001B[0;34m\u001B[0m\u001B[0m\n\u001B[1;32m      2\u001B[0m \u001B[0;34m\u001B[0m\u001B[0m\n\u001B[0;32m----> 3\u001B[0;31m \u001B[0mdic\u001B[0m \u001B[0;34m=\u001B[0m \u001B[0mparseStream\u001B[0m\u001B[0;34m(\u001B[0m\u001B[0mstream_cut\u001B[0m\u001B[0;34m,\u001B[0m \u001B[0mtpstamp\u001B[0m\u001B[0;34m,\u001B[0m \u001B[0;34m\"1\"\u001B[0m\u001B[0;34m)\u001B[0m\u001B[0;34m\u001B[0m\u001B[0;34m\u001B[0m\u001B[0m\n\u001B[0m\u001B[1;32m      4\u001B[0m \u001B[0mdic\u001B[0m\u001B[0;34m.\u001B[0m\u001B[0mkeys\u001B[0m\u001B[0;34m(\u001B[0m\u001B[0;34m)\u001B[0m\u001B[0;34m\u001B[0m\u001B[0;34m\u001B[0m\u001B[0m\n\u001B[1;32m      5\u001B[0m \u001B[0;34m\u001B[0m\u001B[0m\n",
      "\u001B[0;32m~/Desktop/EIRS/backend/pwave/pwave_picking.py\u001B[0m in \u001B[0;36mparseStream\u001B[0;34m(stream, timestamp, p_id)\u001B[0m\n\u001B[1;32m     39\u001B[0m         \u001B[0mtr_id\u001B[0m \u001B[0;34m=\u001B[0m \u001B[0mtrace\u001B[0m\u001B[0;34m.\u001B[0m\u001B[0mget_id\u001B[0m\u001B[0;34m(\u001B[0m\u001B[0;34m)\u001B[0m\u001B[0;34m\u001B[0m\u001B[0;34m\u001B[0m\u001B[0m\n\u001B[1;32m     40\u001B[0m         \u001B[0;31m# dic[tr_id]['stats'] = json.dumps(trace.stats, default=lambda obj: obj.__dict__)\u001B[0m\u001B[0;34m\u001B[0m\u001B[0;34m\u001B[0m\u001B[0;34m\u001B[0m\u001B[0m\n\u001B[0;32m---> 41\u001B[0;31m         \u001B[0mdic\u001B[0m\u001B[0;34m[\u001B[0m\u001B[0mtr_id\u001B[0m\u001B[0;34m]\u001B[0m\u001B[0;34m[\u001B[0m\u001B[0;34m'startTime'\u001B[0m\u001B[0;34m]\u001B[0m \u001B[0;34m=\u001B[0m \u001B[0mstr\u001B[0m\u001B[0;34m(\u001B[0m\u001B[0mtrace\u001B[0m\u001B[0;34m.\u001B[0m\u001B[0mstats\u001B[0m\u001B[0;34m.\u001B[0m\u001B[0mstarttime\u001B[0m\u001B[0;34m)\u001B[0m\u001B[0;34m\u001B[0m\u001B[0;34m\u001B[0m\u001B[0m\n\u001B[0m\u001B[1;32m     42\u001B[0m         \u001B[0mdic\u001B[0m\u001B[0;34m[\u001B[0m\u001B[0mtr_id\u001B[0m\u001B[0;34m]\u001B[0m\u001B[0;34m[\u001B[0m\u001B[0;34m'endTime'\u001B[0m\u001B[0;34m]\u001B[0m \u001B[0;34m=\u001B[0m \u001B[0mstr\u001B[0m\u001B[0;34m(\u001B[0m\u001B[0mtrace\u001B[0m\u001B[0;34m.\u001B[0m\u001B[0mstats\u001B[0m\u001B[0;34m.\u001B[0m\u001B[0mendtime\u001B[0m\u001B[0;34m)\u001B[0m\u001B[0;34m\u001B[0m\u001B[0;34m\u001B[0m\u001B[0m\n\u001B[1;32m     43\u001B[0m         \u001B[0mdic\u001B[0m\u001B[0;34m[\u001B[0m\u001B[0mtr_id\u001B[0m\u001B[0;34m]\u001B[0m\u001B[0;34m[\u001B[0m\u001B[0;34m'data'\u001B[0m\u001B[0;34m]\u001B[0m \u001B[0;34m=\u001B[0m \u001B[0mtrace\u001B[0m\u001B[0;34m.\u001B[0m\u001B[0mdata\u001B[0m\u001B[0;34m.\u001B[0m\u001B[0mtolist\u001B[0m\u001B[0;34m(\u001B[0m\u001B[0;34m)\u001B[0m\u001B[0;34m\u001B[0m\u001B[0;34m\u001B[0m\u001B[0m\n",
      "\u001B[0;31mKeyError\u001B[0m: 'XX.PWU..BHE'"
     ]
    }
   ],
   "source": [
    "# 将stream解析成json\n",
    "dic = parseStream(stream_cut, tpstamp)\n",
    "dic.keys()"
   ],
   "metadata": {
    "collapsed": false,
    "pycharm": {
     "name": "#%%\n"
    }
   }
  },
  {
   "cell_type": "code",
   "execution_count": 15,
   "outputs": [],
   "source": [
    "# 向kafka发送消息\n",
    "sendMsg(\"test\", \"dic\")"
   ],
   "metadata": {
    "collapsed": false,
    "pycharm": {
     "name": "#%%\n"
    }
   }
  },
  {
   "cell_type": "code",
   "execution_count": 10,
   "outputs": [],
   "source": [
    "# 存储剪切后的波形\n",
    "saveCutStream(stream_cut, \"/Users/cui/Desktop\")"
   ],
   "metadata": {
    "collapsed": false,
    "pycharm": {
     "name": "#%%\n"
    }
   }
  },
  {
   "cell_type": "code",
   "execution_count": 7,
   "outputs": [],
   "source": [
    "# 存储P波json至文件\n",
    "import json\n",
    "jsObj = json.dumps(dic)\n",
    "\n",
    "with open ('/Users/cui/Desktop/pwave.json','w',encoding='utf8') as fp:\n",
    "    fp.write(jsObj)"
   ],
   "metadata": {
    "collapsed": false,
    "pycharm": {
     "name": "#%%\n"
    }
   }
  },
  {
   "cell_type": "code",
   "execution_count": 14,
   "outputs": [
    {
     "name": "stdout",
     "output_type": "stream",
     "text": [
      "dict_keys(['network', 'station', 'pwave_timestamp', 'XX.PWU..BHE', 'XX.PWU..BHN', 'XX.PWU..BHZ'])\n",
      "XX\n"
     ]
    }
   ],
   "source": [
    "with open('/Users/cui/Desktop/pwave.json','r',encoding='utf8')as fp:\n",
    "    data = dict(json.load(fp))\n",
    "    print(data.keys())\n",
    "    print(data['network'])\n"
   ],
   "metadata": {
    "collapsed": false,
    "pycharm": {
     "name": "#%%\n"
    }
   }
  }
 ],
 "metadata": {
  "kernelspec": {
   "display_name": "Python 3",
   "language": "python",
   "name": "python3"
  },
  "language_info": {
   "codemirror_mode": {
    "name": "ipython",
    "version": 2
   },
   "file_extension": ".py",
   "mimetype": "text/x-python",
   "name": "python",
   "nbconvert_exporter": "python",
   "pygments_lexer": "ipython2",
   "version": "2.7.6"
  }
 },
 "nbformat": 4,
 "nbformat_minor": 0
}