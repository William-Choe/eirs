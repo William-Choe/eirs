{
 "cells": [
  {
   "cell_type": "code",
   "execution_count": 1,
   "metadata": {
    "collapsed": true
   },
   "outputs": [
    {
     "name": "stdout",
     "output_type": "stream",
     "text": [
      "WARNING:tensorflow:From /usr/local/anaconda3/envs/eirs_tf2/lib/python3.7/site-packages/tensorflow_core/python/compat/v2_compat.py:65: disable_resource_variables (from tensorflow.python.ops.variable_scope) is deprecated and will be removed in a future version.\n",
      "Instructions for updating:\n",
      "non-resource variables are not supported in the long term\n"
     ]
    }
   ],
   "source": [
    "import os\n",
    "import numpy as np\n",
    "from collections import defaultdict\n",
    "from obspy.core.trace import Stats\n",
    "from obspy import Trace, UTCDateTime, Stream\n",
    "\n",
    "from unet_predict_pb import predict"
   ]
  },
  {
   "cell_type": "code",
   "execution_count": 2,
   "outputs": [],
   "source": [
    "def read_data(path):\n",
    "    with open(path, 'r') as file:\n",
    "        data = [int(i) for i in file.read().splitlines()]\n",
    "        return data"
   ],
   "metadata": {
    "collapsed": false,
    "pycharm": {
     "name": "#%%\n"
    }
   }
  },
  {
   "cell_type": "code",
   "execution_count": 3,
   "outputs": [],
   "source": [
    "# 获取目录及文件名\n",
    "dic = defaultdict(dict)\n",
    "\n",
    "root_path = \"/Users/cui/Downloads/txt/\"\n",
    "dirs = os.listdir(root_path)\n",
    "dirs.sort()\n",
    "dirs.remove(\".DS_Store\")\n",
    "\n",
    "for dir in dirs:\n",
    "    sample_file = os.listdir(root_path + dir)\n",
    "    sample_file.sort()\n",
    "    dic[dir] = sample_file"
   ],
   "metadata": {
    "collapsed": false,
    "pycharm": {
     "name": "#%%\n"
    }
   }
  },
  {
   "cell_type": "code",
   "execution_count": 4,
   "outputs": [
    {
     "name": "stdout",
     "output_type": "stream",
     "text": [
      "20190105080948\n",
      "['SD.HAY.00.BHE20190105080948.txt', 'SD.HAY.00.BHN20190105080948.txt', 'SD.HAY.00.BHZ20190105080948.txt', 'SD.RSH.00.BHE20190105080948.txt', 'SD.RSH.00.BHN20190105080948.txt', 'SD.RSH.00.BHZ20190105080948.txt']\n",
      "{'SD.RSH.00', 'SD.HAY.00'}\n"
     ]
    }
   ],
   "source": [
    "time = dirs[0]\n",
    "data_files = dic[time]\n",
    "print(time)\n",
    "print(data_files)\n",
    "\n",
    "sta_set = set([i[:-22] for i in data_files])\n",
    "print(sta_set)"
   ],
   "metadata": {
    "collapsed": false,
    "pycharm": {
     "name": "#%%\n"
    }
   }
  },
  {
   "cell_type": "code",
   "execution_count": 5,
   "outputs": [],
   "source": [
    "def initialStats(data_file):\n",
    "    st_info = data_file.split('.')\n",
    "\n",
    "    stats = Stats()\n",
    "    stats.network = st_info[0]\n",
    "    stats.station = st_info[1]\n",
    "    stats.location = st_info[2]\n",
    "    stats.channel = data_file[-21:-18]\n",
    "    stats.sampling_rate = 100\n",
    "    stats.npts = 22001\n",
    "    stats.starttime = UTCDateTime(int(data_file[-18:-14]), int(data_file[-14:-12]),\n",
    "                                  int(data_file[-12:-10]), int(data_file[-10:-8]),\n",
    "                                  int(data_file[-8:-6]), int(data_file[-6:-4]))\n",
    "    return stats"
   ],
   "metadata": {
    "collapsed": false,
    "pycharm": {
     "name": "#%%\n"
    }
   }
  },
  {
   "cell_type": "code",
   "execution_count": 6,
   "outputs": [
    {
     "name": "stdout",
     "output_type": "stream",
     "text": [
      "3 Trace(s) in Stream:\n",
      "SD.HAY.00.BHE | 2019-01-05T08:09:48.000000Z - 2019-01-05T08:13:28.000000Z | 100.0 Hz, 22001 samples\n",
      "SD.HAY.00.BHN | 2019-01-05T08:09:48.000000Z - 2019-01-05T08:13:28.000000Z | 100.0 Hz, 22001 samples\n",
      "SD.HAY.00.BHZ | 2019-01-05T08:09:48.000000Z - 2019-01-05T08:13:28.000000Z | 100.0 Hz, 22001 samples\n",
      "3 Trace(s) in Stream:\n",
      "SD.RSH.00.BHE | 2019-01-05T08:09:48.000000Z - 2019-01-05T08:13:28.000000Z | 100.0 Hz, 22001 samples\n",
      "SD.RSH.00.BHN | 2019-01-05T08:09:48.000000Z - 2019-01-05T08:13:28.000000Z | 100.0 Hz, 22001 samples\n",
      "SD.RSH.00.BHZ | 2019-01-05T08:09:48.000000Z - 2019-01-05T08:13:28.000000Z | 100.0 Hz, 22001 samples\n"
     ]
    }
   ],
   "source": [
    "# 将当前时间戳目录下各台站三份量波形文件格式化为stream，并放入streams中\n",
    "streams = []\n",
    "for station in sta_set:\n",
    "    stream = Stream()\n",
    "\n",
    "    for data_file in data_files:\n",
    "        if data_file.find(station):\n",
    "            stats = initialStats(data_file)\n",
    "            data = np.array(read_data(root_path + time + \"/\" + data_file))\n",
    "\n",
    "            trace = Trace(data=data, header=stats)\n",
    "            stream.append(trace)\n",
    "\n",
    "    streams.append(stream)\n",
    "\n",
    "for st in streams:\n",
    "    print(st)"
   ],
   "metadata": {
    "collapsed": false,
    "pycharm": {
     "name": "#%%\n"
    }
   }
  },
  {
   "cell_type": "code",
   "execution_count": 7,
   "outputs": [
    {
     "name": "stdout",
     "output_type": "stream",
     "text": [
      "2019-01-05T08:09:48.000000Z\n",
      "2019-01-05T08:13:28.000000Z\n",
      "Start time: 2019-01-05T08:09:48.000000Z\n",
      "Start time: 2019-01-05T08:09:58.000000Z\n",
      "Start time: 2019-01-05T08:10:08.000000Z\n",
      "P-wave timestamp: 2019-01-05T08:10:12.545000Z\n",
      "Start time: 2019-01-05T08:10:38.000000Z\n",
      "Start time: 2019-01-05T08:10:48.000000Z\n",
      "P-wave timestamp: 2019-01-05T08:10:52.615000Z\n",
      "Start time: 2019-01-05T08:11:18.000000Z\n",
      "Start time: 2019-01-05T08:11:28.000000Z\n",
      "Start time: 2019-01-05T08:11:38.000000Z\n",
      "P-wave timestamp: 2019-01-05T08:11:39.835000Z\n",
      "Start time: 2019-01-05T08:12:08.000000Z\n",
      "P-wave timestamp: 2019-01-05T08:12:13.295000Z\n",
      "Start time: 2019-01-05T08:12:38.000000Z\n",
      "P-wave timestamp: 2019-01-05T08:12:41.795000Z\n",
      "Start time: 2019-01-05T08:12:58.000000Z\n",
      "P-wave timestamp: 2019-01-05T08:13:03.370000Z\n"
     ]
    }
   ],
   "source": [
    "window_size = 30\n",
    "step = 10\n",
    "\n",
    "start_time = UTCDateTime(streams[0][0].stats.starttime)\n",
    "end_time = UTCDateTime(streams[0][0].stats.endtime)\n",
    "print(start_time)\n",
    "print(end_time)\n",
    "\n",
    "while True:\n",
    "    if start_time == end_time:\n",
    "        break\n",
    "\n",
    "    if UTCDateTime(start_time + window_size) > end_time:\n",
    "        start_time = UTCDateTime(end_time - window_size)\n",
    "\n",
    "    print(\"Start time:\", start_time)\n",
    "    find_p = False\n",
    "    for st in streams:\n",
    "        win_st = st.slice(start_time, start_time + window_size)\n",
    "        win_st.normalize()\n",
    "        win_st = win_st.detrend('constant')\n",
    "        win_st = win_st.filter('bandpass', freqmin=0.5, freqmax=20)\n",
    "\n",
    "        tpstamp = predict(win_st)\n",
    "        if tpstamp:\n",
    "            find_p = True\n",
    "            print(\"P-wave timestamp:\", UTCDateTime(tpstamp))\n",
    "\n",
    "    start_time = UTCDateTime(start_time + window_size) if find_p else UTCDateTime(start_time + step)\n"
   ],
   "metadata": {
    "collapsed": false,
    "pycharm": {
     "name": "#%%\n"
    }
   }
  }
 ],
 "metadata": {
  "kernelspec": {
   "display_name": "Python 3",
   "language": "python",
   "name": "python3"
  },
  "language_info": {
   "codemirror_mode": {
    "name": "ipython",
    "version": 2
   },
   "file_extension": ".py",
   "mimetype": "text/x-python",
   "name": "python",
   "nbconvert_exporter": "python",
   "pygments_lexer": "ipython2",
   "version": "2.7.6"
  }
 },
 "nbformat": 4,
 "nbformat_minor": 0
}